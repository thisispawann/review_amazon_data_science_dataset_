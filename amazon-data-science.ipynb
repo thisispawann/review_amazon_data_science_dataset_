{
 "cells": [
  {
   "attachments": {},
   "cell_type": "markdown",
   "metadata": {},
   "source": [
    "Analyzing amazon data science books dataset\n",
    "\n",
    "- Author: Pawan Kumar Shrestha\n",
    "  \n",
    "- Date: 26 December 2022\n",
    "\n",
    "Dataset:\n",
    "\n",
    "This project uses the Data Science books dataset available on Kaggle https://www.kaggle.com/datasets/die9origephit/amazon-data-science-books\n",
    "\n",
    "To-do List:\n",
    "\n",
    "1. EDA: Do more expensive books have better review?\n",
    "   \n",
    "2. EDA: Do longer book pages have higher pages?\n",
    "\n",
    "3. What are the best Python and Machine Learning books?\n",
    "\n",
    "4. Cluster analysis of book names using TF-IDF and K-means\n",
    "\n",
    "5. Amazon review scraping and book review summary"
   ]
  }
 ],
 "metadata": {
  "kernelspec": {
   "display_name": "book_review",
   "language": "python",
   "name": "python3"
  },
  "language_info": {
   "name": "python",
   "version": "3.10.0 (tags/v3.10.0:b494f59, Oct  4 2021, 19:00:18) [MSC v.1929 64 bit (AMD64)]"
  },
  "orig_nbformat": 4,
  "vscode": {
   "interpreter": {
    "hash": "bb544ccad2faa779d582fcc6686aeb012f62260fdc4cc029481158c8eacd7e18"
   }
  }
 },
 "nbformat": 4,
 "nbformat_minor": 2
}
